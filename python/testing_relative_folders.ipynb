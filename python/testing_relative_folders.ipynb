{
 "cells": [
  {
   "cell_type": "code",
   "execution_count": 2,
   "metadata": {},
   "outputs": [
    {
     "name": "stdout",
     "output_type": "stream",
     "text": [
      "Files found in '../':\n",
      "projectIdeas.md\n",
      "image_manipulation_CLI.md\n",
      "bash_fun.md\n",
      "apt_NO_PUBKEY.md\n",
      "systemd_commands.md\n",
      "secondMonitorUSBcaptureCardHDMI.md\n",
      "vscode.md\n",
      "copyAllRepos.sh\n",
      "gpg.md\n",
      "apt_trusted.gpg_DEPRECATION.md\n",
      "learningResources.md\n",
      "linuxOSinstalls.md\n",
      "convertText2Image.md\n",
      "usb.md\n",
      "firefox.md\n",
      "QRcodes.md\n",
      "android-debug-bridge.md\n",
      "SSH.md\n",
      "crypttab.md\n",
      "LVM.md\n",
      "README.md\n",
      "rsync.md\n",
      "CSS.md\n",
      "CLI.md\n",
      "AWS_SSL_certificate_creation_w_custom_domain.md\n",
      "virtualization_software.md\n",
      "android_emulator.md\n",
      "apparmor.md\n",
      "SQLtools.md\n",
      "chromium.md\n",
      "gpg_receive_keys_bug_fix.md\n",
      "mysql_workbench_and_mariadbsetup_on_debian_ubuntu.md\n",
      "python.md\n",
      "node_manual_installation_on_ubuntu_debian.md\n",
      "lxc.md\n",
      "ffmpeg_useful_commands.md\n",
      "git_cheatSheet.md\n",
      ".gitignore\n",
      "chroot.md\n",
      "macOS.md\n",
      "bash_aliases.sh\n",
      "gitignore\n",
      "snap.md\n",
      "gitconfig.md\n"
     ]
    }
   ],
   "source": [
    "from pathlib import Path\n",
    "\n",
    "def list_files_in_folder(folder_path):\n",
    "    \"\"\"Lists all files within a folder using pathlib.\"\"\"\n",
    "    try:\n",
    "        folder = Path(folder_path)  # Create a Path object for the folder\n",
    "\n",
    "        if not folder.is_dir():\n",
    "            print(f\"Error: Folder '{folder_path}' not found.\")\n",
    "            return []  # Return an empty list if the folder doesn't exist\n",
    "\n",
    "        files = [f.name for f in folder.iterdir() if f.is_file()]\n",
    "        return files\n",
    "\n",
    "    except Exception as e:\n",
    "        print(f\"An error occurred: {e}\")\n",
    "        return []  # Return empty list if any other error occurs\n",
    "\n",
    "\n",
    "# Example usage:\n",
    "folder_to_check = \"../\"  # Or use an absolute path: \"/path/to/my_folder\"\n",
    "\n",
    "found_files = list_files_in_folder(folder_to_check)\n",
    "\n",
    "if found_files:  # Check if the list is not empty (meaning no errors)\n",
    "    print(f\"Files found in '{folder_to_check}':\")\n",
    "    for file_name in found_files:\n",
    "        print(file_name)  # Or do something else with each file name\n",
    "else:\n",
    "    print(f\"\\nNo files found in '{found_files}' or an error occurred.\")\n"
   ]
  }
 ],
 "metadata": {
  "kernelspec": {
   "display_name": "Python 3",
   "language": "python",
   "name": "python3"
  },
  "language_info": {
   "codemirror_mode": {
    "name": "ipython",
    "version": 3
   },
   "file_extension": ".py",
   "mimetype": "text/x-python",
   "name": "python",
   "nbconvert_exporter": "python",
   "pygments_lexer": "ipython3",
   "version": "3.10.12"
  }
 },
 "nbformat": 4,
 "nbformat_minor": 2
}
