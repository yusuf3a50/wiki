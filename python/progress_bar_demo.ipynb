{
 "cells": [
  {
   "cell_type": "markdown",
   "id": "468303a3",
   "metadata": {},
   "source": [
    "# Progress Bar Demo Notebook\n",
    "\n",
    "This notebook demonstrates various progress bar implementations for loops and long-running processes.\n",
    "\n",
    "## Features\n",
    "- Simple progress bar with percentage display\n",
    "- Multiple visual styles\n",
    "- Colored progress bars\n",
    "- Interactive demonstrations\n",
    "\n",
    "## Usage\n",
    "Run each cell sequentially to see different progress bar implementations."
   ]
  },
  {
   "cell_type": "code",
   "execution_count": 1,
   "id": "d510b58a",
   "metadata": {},
   "outputs": [
    {
     "name": "stdout",
     "output_type": "stream",
     "text": [
      "📚 Libraries imported successfully!\n",
      "Ready to demonstrate progress bars in Jupyter notebook environment.\n"
     ]
    }
   ],
   "source": [
    "# Import required libraries\n",
    "import time\n",
    "import sys\n",
    "import random\n",
    "from IPython.display import clear_output, display\n",
    "import ipywidgets as widgets\n",
    "from tqdm.notebook import tqdm\n",
    "\n",
    "print(\"📚 Libraries imported successfully!\")\n",
    "print(\"Ready to demonstrate progress bars in Jupyter notebook environment.\")"
   ]
  },
  {
   "cell_type": "markdown",
   "id": "d4bfc3c3",
   "metadata": {},
   "source": [
    "## Basic Progress Bar Function\n",
    "\n",
    "This cell defines a custom progress bar function that works well in Jupyter notebooks."
   ]
  },
  {
   "cell_type": "code",
   "execution_count": 2,
   "id": "d5bccac1",
   "metadata": {},
   "outputs": [
    {
     "name": "stdout",
     "output_type": "stream",
     "text": [
      "🔧 Progress bar functions defined successfully!\n"
     ]
    }
   ],
   "source": [
    "def print_progress_bar(iteration, total, prefix='Progress', suffix='Complete', \n",
    "                      decimals=1, length=50, fill='█', print_end=\"\\r\"):\n",
    "    \"\"\"\n",
    "    Call in a loop to create terminal progress bar\n",
    "    \n",
    "    @params:\n",
    "        iteration   - Required  : current iteration (Int)\n",
    "        total       - Required  : total iterations (Int)\n",
    "        prefix      - Optional  : prefix string (Str)\n",
    "        suffix      - Optional  : suffix string (Str)\n",
    "        decimals    - Optional  : positive number of decimals in percent complete (Int)\n",
    "        length      - Optional  : character length of bar (Int)\n",
    "        fill        - Optional  : bar fill character (Str)\n",
    "        print_end   - Optional  : end character (e.g. \"\\r\", \"\\r\\n\") (Str)\n",
    "    \"\"\"\n",
    "    percent = (\"{0:.\" + str(decimals) + \"f}\").format(100 * (iteration / float(total)))\n",
    "    filled_length = int(length * iteration // total)\n",
    "    bar = fill * filled_length + '-' * (length - filled_length)\n",
    "    \n",
    "    # In Jupyter, we use clear_output for better display\n",
    "    if iteration > 0:\n",
    "        clear_output(wait=True)\n",
    "    \n",
    "    print(f'{prefix} |{bar}| {percent}% {suffix}')\n",
    "    \n",
    "    # Final message when complete\n",
    "    if iteration == total: \n",
    "        print(\"✅ Process completed successfully!\")\n",
    "\n",
    "def simple_task_simulation():\n",
    "    \"\"\"\n",
    "    Simulate some work being done - replace this with actual work\n",
    "    \"\"\"\n",
    "    # Simulate variable processing time (between 0.05 and 0.15 seconds)\n",
    "    time.sleep(random.uniform(0.05, 0.15))\n",
    "\n",
    "print(\"🔧 Progress bar functions defined successfully!\")"
   ]
  },
  {
   "cell_type": "markdown",
   "id": "6458a2ad",
   "metadata": {},
   "source": [
    "## Demo 1: Basic Progress Bar (100 iterations)\n",
    "\n",
    "Run this cell to see a basic progress bar in action with 100 iterations."
   ]
  },
  {
   "cell_type": "code",
   "execution_count": 3,
   "id": "597d3d07",
   "metadata": {},
   "outputs": [
    {
     "name": "stdout",
     "output_type": "stream",
     "text": [
      "Processing: |██████████████████████████████████████████████████| 100.0% Complete\n",
      "✅ Process completed successfully!\n",
      "📊 Processed 100 items successfully!\n"
     ]
    }
   ],
   "source": [
    "print(\"🚀 Basic Progress Bar Demo - Running 100 iterations\")\n",
    "print(\"=\" * 60)\n",
    "\n",
    "# Total number of iterations\n",
    "total_iterations = 100\n",
    "\n",
    "# Initialize progress bar\n",
    "print_progress_bar(0, total_iterations, prefix='Processing:', suffix='Complete', length=50)\n",
    "\n",
    "# Main processing loop\n",
    "for i in range(total_iterations):\n",
    "    # Simulate some work\n",
    "    simple_task_simulation()\n",
    "    \n",
    "    # Update progress bar\n",
    "    print_progress_bar(i + 1, total_iterations, prefix='Processing:', suffix='Complete', length=50)\n",
    "\n",
    "print(f\"📊 Processed {total_iterations} items successfully!\")"
   ]
  },
  {
   "cell_type": "markdown",
   "id": "34c1df7e",
   "metadata": {},
   "source": [
    "## Demo 2: TQDM Progress Bar\n",
    "\n",
    "TQDM is a popular library that provides excellent progress bars for Jupyter notebooks."
   ]
  },
  {
   "cell_type": "code",
   "execution_count": 4,
   "id": "f545575f",
   "metadata": {},
   "outputs": [
    {
     "name": "stdout",
     "output_type": "stream",
     "text": [
      "🌟 TQDM Progress Bar Demo\n",
      "========================================\n"
     ]
    },
    {
     "data": {
      "application/vnd.jupyter.widget-view+json": {
       "model_id": "46a1ea93e7794aaf8298bd15f39a9a1f",
       "version_major": 2,
       "version_minor": 0
      },
      "text/plain": [
       "Processing items:   0%|          | 0/100 [00:00<?, ?it/s]"
      ]
     },
     "metadata": {},
     "output_type": "display_data"
    },
    {
     "name": "stdout",
     "output_type": "stream",
     "text": [
      "\n",
      "✅ TQDM demo completed!\n"
     ]
    }
   ],
   "source": [
    "print(\"🌟 TQDM Progress Bar Demo\")\n",
    "print(\"=\" * 40)\n",
    "\n",
    "# Simple tqdm progress bar\n",
    "for i in tqdm(range(100), desc=\"Processing items\"):\n",
    "    simple_task_simulation()\n",
    "\n",
    "print(\"\\n✅ TQDM demo completed!\")"
   ]
  },
  {
   "cell_type": "markdown",
   "id": "721473aa",
   "metadata": {},
   "source": [
    "## Demo 3: Different Progress Bar Styles\n",
    "\n",
    "This cell demonstrates various visual styles for progress bars."
   ]
  },
  {
   "cell_type": "code",
   "execution_count": 5,
   "id": "2f8a4ac7",
   "metadata": {},
   "outputs": [
    {
     "name": "stdout",
     "output_type": "stream",
     "text": [
      "🎨 Different Progress Bar Styles Demo\n",
      "==================================================\n",
      "\n",
      "Hash Style:\n",
      "Hash: |##############################| 100.0% Complete\n",
      "✓ Hash style completed!\n",
      "✓ Hash style completed!\n",
      "\n",
      "🎉 All progress bar styles demonstrated!\n",
      "\n",
      "🎉 All progress bar styles demonstrated!\n"
     ]
    }
   ],
   "source": [
    "print(\"🎨 Different Progress Bar Styles Demo\")\n",
    "print(\"=\" * 50)\n",
    "\n",
    "styles = [\n",
    "    {'fill': '█', 'name': 'Solid Block'},\n",
    "    {'fill': '▓', 'name': 'Medium Shade'},\n",
    "    {'fill': '▒', 'name': 'Light Shade'},\n",
    "    {'fill': '░', 'name': 'Lighter Shade'},\n",
    "    {'fill': '●', 'name': 'Circle'},\n",
    "    {'fill': '■', 'name': 'Square'},\n",
    "    {'fill': '♦', 'name': 'Diamond'},\n",
    "    {'fill': '#', 'name': 'Hash'}\n",
    "]\n",
    "\n",
    "for style in styles:\n",
    "    print(f\"\\n{style['name']} Style:\")\n",
    "    \n",
    "    for i in range(21):  # 0 to 20 for quick demo\n",
    "        percent = \"{0:.1f}\".format(100 * (i / 20.0))\n",
    "        filled_length = int(30 * i // 20)\n",
    "        bar = style['fill'] * filled_length + '-' * (30 - filled_length)\n",
    "        \n",
    "        if i > 0:\n",
    "            clear_output(wait=True)\n",
    "            print(f\"🎨 Different Progress Bar Styles Demo\")\n",
    "            print(\"=\" * 50)\n",
    "            print(f\"\\n{style['name']} Style:\")\n",
    "        \n",
    "        print(f\"{style['name']}: |{bar}| {percent}% Complete\")\n",
    "        time.sleep(0.1)  # Quick animation\n",
    "    \n",
    "    print(f\"✓ {style['name']} style completed!\")\n",
    "    time.sleep(0.5)  # Pause between styles\n",
    "\n",
    "print(\"\\n🎉 All progress bar styles demonstrated!\")"
   ]
  },
  {
   "cell_type": "markdown",
   "id": "b5b06a1f",
   "metadata": {},
   "source": [
    "## Demo 4: Colored Progress Bar\n",
    "\n",
    "This demonstrates a colored progress bar that changes color based on completion percentage."
   ]
  },
  {
   "cell_type": "code",
   "execution_count": 7,
   "id": "ac44874c",
   "metadata": {},
   "outputs": [
    {
     "name": "stdout",
     "output_type": "stream",
     "text": [
      "🌈 Colored Progress Bar Demo\n",
      "========================================\n",
      "\u001b[1mColored Progress:\u001b[0m |\u001b[92m████████████████████████████████████████\u001b[0m| \u001b[96m100.0%\u001b[0m Complete\n",
      "Status: \u001b[92mAlmost Done\u001b[0m\n",
      "\n",
      "\u001b[92m✅ Colored progress bar completed!\u001b[0m\n",
      "\n",
      "🎨 Color coding: Red (0-33%), Yellow (33-66%), Green (66-100%)\n",
      "\n",
      "🎨 Color coding: Red (0-33%), Yellow (33-66%), Green (66-100%)\n"
     ]
    }
   ],
   "source": [
    "print(\"🌈 Colored Progress Bar Demo\")\n",
    "print(\"=\" * 40)\n",
    "\n",
    "# ANSI color codes for terminal colors\n",
    "GREEN = '\\033[92m'\n",
    "YELLOW = '\\033[93m'\n",
    "RED = '\\033[91m'\n",
    "BLUE = '\\033[94m'\n",
    "MAGENTA = '\\033[95m'\n",
    "CYAN = '\\033[96m'\n",
    "RESET = '\\033[0m'\n",
    "BOLD = '\\033[1m'\n",
    "\n",
    "def colored_progress_bar(iteration, total, prefix='Progress', suffix='Complete', \n",
    "                        decimals=1, length=40, fill='█'):\n",
    "    percent = (\"{0:.\" + str(decimals) + \"f}\").format(100 * (iteration / float(total)))\n",
    "    filled_length = int(length * iteration // total)\n",
    "    \n",
    "    # Color based on progress\n",
    "    if iteration / total < 0.33:\n",
    "        color = RED\n",
    "        status = \"Starting\"\n",
    "    elif iteration / total < 0.66:\n",
    "        color = YELLOW\n",
    "        status = \"In Progress\"\n",
    "    else:\n",
    "        color = GREEN\n",
    "        status = \"Almost Done\"\n",
    "    \n",
    "    bar = color + fill * filled_length + RESET + '-' * (length - filled_length)\n",
    "    \n",
    "    if iteration > 0:\n",
    "        clear_output(wait=True)\n",
    "        print(\"🌈 Colored Progress Bar Demo\")\n",
    "        print(\"=\" * 40)\n",
    "    \n",
    "    print(f'{BOLD}{prefix}{RESET} |{bar}| {CYAN}{percent}%{RESET} {suffix}')\n",
    "    print(f'Status: {color}{status}{RESET}')\n",
    "    \n",
    "    if iteration == total: \n",
    "        print(f\"\\n{GREEN}✅ Colored progress bar completed!{RESET}\")\n",
    "\n",
    "# Run colored progress bar\n",
    "for i in range(51):  # 0 to 50 for demo\n",
    "    colored_progress_bar(i, 50, \n",
    "                        prefix='Colored Progress:', \n",
    "                        suffix='Complete', \n",
    "                        length=40)\n",
    "    time.sleep(0.1)\n",
    "\n",
    "print(\"\\n🎨 Color coding: Red (0-33%), Yellow (33-66%), Green (66-100%)\")"
   ]
  },
  {
   "cell_type": "markdown",
   "id": "50258a7f",
   "metadata": {},
   "source": [
    "## Demo 5: Interactive Widget Progress Bar\n",
    "\n",
    "This uses Jupyter widgets to create an interactive progress bar."
   ]
  },
  {
   "cell_type": "code",
   "execution_count": 9,
   "id": "0f9ab18d",
   "metadata": {},
   "outputs": [
    {
     "name": "stdout",
     "output_type": "stream",
     "text": [
      "🎛️ Interactive Widget Progress Bar Demo\n",
      "=============================================\n"
     ]
    },
    {
     "data": {
      "application/vnd.jupyter.widget-view+json": {
       "model_id": "dea9a67710fe4bf9b167524597af0c79",
       "version_major": 2,
       "version_minor": 0
      },
      "text/plain": [
       "VBox(children=(IntProgress(value=0, bar_style='info', description='Processing:', style=ProgressStyle(bar_color…"
      ]
     },
     "metadata": {},
     "output_type": "display_data"
    },
    {
     "name": "stdout",
     "output_type": "stream",
     "text": [
      "\n",
      "🎉 Interactive widget demo finished!\n"
     ]
    }
   ],
   "source": [
    "print(\"🎛️ Interactive Widget Progress Bar Demo\")\n",
    "print(\"=\" * 45)\n",
    "\n",
    "# Create progress widget\n",
    "progress_widget = widgets.IntProgress(\n",
    "    value=0,\n",
    "    min=0,\n",
    "    max=100,\n",
    "    description='Processing:',\n",
    "    bar_style='info',  # 'success', 'info', 'warning', 'danger' or ''\n",
    "    style={'bar_color': '#3498db'},\n",
    "    orientation='horizontal'\n",
    ")\n",
    "\n",
    "# Create label for percentage\n",
    "label = widgets.Label(value=\"0%\")\n",
    "\n",
    "# Display widgets\n",
    "display(widgets.VBox([progress_widget, label]))\n",
    "\n",
    "# Run the progress\n",
    "for i in range(101):\n",
    "    progress_widget.value = i\n",
    "    label.value = f\"{i}% Complete\"\n",
    "    \n",
    "    # Change bar color based on progress\n",
    "    if i < 33:\n",
    "        progress_widget.bar_style = 'danger'  # Red\n",
    "    elif i < 66:\n",
    "        progress_widget.bar_style = 'warning'  # Yellow\n",
    "    else:\n",
    "        progress_widget.bar_style = 'success'  # Green\n",
    "    \n",
    "    time.sleep(0.05)\n",
    "\n",
    "label.value = \"✅ Widget progress bar completed!\"\n",
    "print(\"\\n🎉 Interactive widget demo finished!\")"
   ]
  },
  {
   "cell_type": "markdown",
   "id": "cf64d9b8",
   "metadata": {},
   "source": [
    "## Demo 6: Multiple Progress Bars\n",
    "\n",
    "This demonstrates running multiple progress bars simultaneously."
   ]
  },
  {
   "cell_type": "code",
   "execution_count": 10,
   "id": "a5d4748b",
   "metadata": {},
   "outputs": [
    {
     "name": "stdout",
     "output_type": "stream",
     "text": [
      "🔄 Multiple Progress Bars Demo\n",
      "========================================\n"
     ]
    },
    {
     "data": {
      "application/vnd.jupyter.widget-view+json": {
       "model_id": "27b5d8a18b094afd9e7259ef9cefb4b6",
       "version_major": 2,
       "version_minor": 0
      },
      "text/plain": [
       "VBox(children=(HBox(children=(IntProgress(value=0, bar_style='info', description='Task 1: Data Lo:', max=50, s…"
      ]
     },
     "metadata": {},
     "output_type": "display_data"
    },
    {
     "name": "stdout",
     "output_type": "stream",
     "text": [
      "\n",
      "🎉 All tasks completed!\n",
      "📊 Multiple progress bars demonstration finished.\n"
     ]
    }
   ],
   "source": [
    "print(\"🔄 Multiple Progress Bars Demo\")\n",
    "print(\"=\" * 40)\n",
    "\n",
    "# Create multiple progress widgets\n",
    "tasks = [\n",
    "    {'name': 'Task 1: Data Loading', 'total': 50, 'current': 0},\n",
    "    {'name': 'Task 2: Processing', 'total': 75, 'current': 0},\n",
    "    {'name': 'Task 3: Analysis', 'total': 30, 'current': 0},\n",
    "    {'name': 'Task 4: Saving', 'total': 25, 'current': 0}\n",
    "]\n",
    "\n",
    "# Create widgets for each task\n",
    "widgets_list = []\n",
    "for task in tasks:\n",
    "    progress = widgets.IntProgress(\n",
    "        value=0,\n",
    "        min=0,\n",
    "        max=task['total'],\n",
    "        description=task['name'][:15] + ':',\n",
    "        bar_style='info',\n",
    "        style={'description_width': 'initial'}\n",
    "    )\n",
    "    label = widgets.Label(value=\"0%\")\n",
    "    widgets_list.append({'progress': progress, 'label': label, 'task': task})\n",
    "\n",
    "# Display all widgets\n",
    "display_widgets = []\n",
    "for widget_info in widgets_list:\n",
    "    display_widgets.append(widgets.HBox([widget_info['progress'], widget_info['label']]))\n",
    "\n",
    "display(widgets.VBox(display_widgets))\n",
    "\n",
    "# Simulate tasks running\n",
    "all_completed = False\n",
    "while not all_completed:\n",
    "    all_completed = True\n",
    "    \n",
    "    for widget_info in widgets_list:\n",
    "        task = widget_info['task']\n",
    "        progress_widget = widget_info['progress']\n",
    "        label_widget = widget_info['label']\n",
    "        \n",
    "        if task['current'] < task['total']:\n",
    "            # Randomly advance the task\n",
    "            if random.random() > 0.3:  # 70% chance to advance\n",
    "                task['current'] += random.randint(1, 3)\n",
    "                task['current'] = min(task['current'], task['total'])\n",
    "            \n",
    "            progress_widget.value = task['current']\n",
    "            percentage = (task['current'] / task['total']) * 100\n",
    "            label_widget.value = f\"{percentage:.1f}%\"\n",
    "            \n",
    "            # Update bar style based on completion\n",
    "            if percentage == 100:\n",
    "                progress_widget.bar_style = 'success'\n",
    "                label_widget.value = \"✅ Done!\"\n",
    "            elif percentage > 75:\n",
    "                progress_widget.bar_style = 'info'\n",
    "            \n",
    "            all_completed = False\n",
    "    \n",
    "    time.sleep(0.1)\n",
    "\n",
    "print(\"\\n🎉 All tasks completed!\")\n",
    "print(\"📊 Multiple progress bars demonstration finished.\")"
   ]
  },
  {
   "cell_type": "markdown",
   "id": "755aa342",
   "metadata": {},
   "source": [
    "## Summary\n",
    "\n",
    "This notebook demonstrated various progress bar implementations:\n",
    "\n",
    "1. **Basic Custom Progress Bar**: Simple text-based progress bar with percentage\n",
    "2. **TQDM Progress Bar**: Popular library with excellent Jupyter integration\n",
    "3. **Different Styles**: Various visual characters for progress bars\n",
    "4. **Colored Progress Bar**: Color-coded progress indication\n",
    "5. **Interactive Widgets**: Jupyter widget-based progress bars\n",
    "6. **Multiple Progress Bars**: Simultaneous progress tracking\n",
    "\n",
    "### When to Use Each Type:\n",
    "- **Basic Custom**: When you need simple, lightweight progress indication\n",
    "- **TQDM**: For most general use cases, excellent performance and features\n",
    "- **Widgets**: For interactive notebooks and GUI-like experiences\n",
    "- **Multiple**: When tracking several concurrent processes\n",
    "\n",
    "### Installation Requirements:\n",
    "```bash\n",
    "pip install tqdm ipywidgets\n",
    "jupyter nbextension enable --py widgetsnbextension\n",
    "```\n",
    "\n",
    "🎉 **Happy coding with progress bars!**"
   ]
  }
 ],
 "metadata": {
  "kernelspec": {
   "display_name": ".venv",
   "language": "python",
   "name": "python3"
  },
  "language_info": {
   "codemirror_mode": {
    "name": "ipython",
    "version": 3
   },
   "file_extension": ".py",
   "mimetype": "text/x-python",
   "name": "python",
   "nbconvert_exporter": "python",
   "pygments_lexer": "ipython3",
   "version": "3.11.2"
  }
 },
 "nbformat": 4,
 "nbformat_minor": 5
}
